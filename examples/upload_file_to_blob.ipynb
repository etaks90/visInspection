{
 "cells": [
  {
   "cell_type": "code",
   "execution_count": 1,
   "metadata": {},
   "outputs": [
    {
     "name": "stdout",
     "output_type": "stream",
     "text": [
      "File was uploaded successfully to Blob storage.\n"
     ]
    }
   ],
   "source": [
    "from azure.storage.blob import BlobServiceClient, BlobClient, ContainerClient\n",
    "import os\n",
    "from dotenv import load_dotenv\n",
    "load_dotenv()\n",
    "\n",
    "def upload_file_to_blob(connection_string, container_name, file_path, blob_name):\n",
    "    try:\n",
    "        # Create the BlobServiceClient object which will be used to create a container client\n",
    "        blob_service_client = BlobServiceClient.from_connection_string(connection_string)\n",
    "\n",
    "        # Create the container if it doesn't already exist\n",
    "        container_client = blob_service_client.get_container_client(container_name)\n",
    "        if not container_client.exists():\n",
    "            container_client = blob_service_client.create_container(container_name)\n",
    "\n",
    "        # Create a blob client using the local file name as the name for the blob\n",
    "        blob_client = blob_service_client.get_blob_client(container=container_name, blob=blob_name)\n",
    "\n",
    "        # Upload the file\n",
    "        with open(file_path, \"rb\") as data:\n",
    "            blob_client.upload_blob(data, overwrite=True)\n",
    "        print(\"File was uploaded successfully to Blob storage.\")\n",
    "\n",
    "    except Exception as e:\n",
    "        print(f\"An error occurred: {e}\")\n",
    "\n",
    "# Use your storage account connection string\n",
    "connection_string = os.getenv(\"CSTR__BLOB__VISINSP\")\n",
    "\n",
    "# Specify the container and the path to the local file and the desired blob name\n",
    "container_name = \"image-uploads\"\n",
    "\n",
    "file_path = r\"C:\\Users\\oliver.koehn\\Documents\\gitProjects\\qualityInspection\\.gitignore\"\n",
    "blob_name = \"dummytest123\"\n",
    "upload_file_to_blob(connection_string, container_name, file_path, blob_name)\n"
   ]
  }
 ],
 "metadata": {
  "kernelspec": {
   "display_name": "venvQualInsp311",
   "language": "python",
   "name": "python3"
  },
  "language_info": {
   "codemirror_mode": {
    "name": "ipython",
    "version": 3
   },
   "file_extension": ".py",
   "mimetype": "text/x-python",
   "name": "python",
   "nbconvert_exporter": "python",
   "pygments_lexer": "ipython3",
   "version": "3.11.8"
  }
 },
 "nbformat": 4,
 "nbformat_minor": 2
}

{
 "cells": [
  {
   "cell_type": "code",
   "execution_count": 2,
   "metadata": {},
   "outputs": [
    {
     "name": "stdout",
     "output_type": "stream",
     "text": [
      "Failed to retrieve data:\n",
      "Status Code: 500\n",
      "Response Body: \n"
     ]
    }
   ],
   "source": [
    "import requests\n",
    "\n",
    "# URL of the endpoint\n",
    "url = 'https://qualityinspection.azurewebsites.net/api/HttpTrigger1?code=vCQ_XOHTwceIrsOlvQuyFfiYHjWgWSPeChjVfEhZe5FKAzFuVdPjvg%3D%3D'\n",
    "\n",
    "# Making a GET request to the endpoint\n",
    "response = requests.get(url)\n",
    "\n",
    "# Checking the response\n",
    "if response.status_code == 200:\n",
    "    print(\"Success:\")\n",
    "    print(response.text)  # Print the content of the response\n",
    "else:\n",
    "    print(\"Failed to retrieve data:\")\n",
    "    print(f\"Status Code: {response.status_code}\")\n",
    "    print(f\"Response Body: {response.text}\")\n"
   ]
  }
 ],
 "metadata": {
  "kernelspec": {
   "display_name": "venvQualInsp311",
   "language": "python",
   "name": "python3"
  },
  "language_info": {
   "codemirror_mode": {
    "name": "ipython",
    "version": 3
   },
   "file_extension": ".py",
   "mimetype": "text/x-python",
   "name": "python",
   "nbconvert_exporter": "python",
   "pygments_lexer": "ipython3",
   "version": "3.11.8"
  }
 },
 "nbformat": 4,
 "nbformat_minor": 2
}

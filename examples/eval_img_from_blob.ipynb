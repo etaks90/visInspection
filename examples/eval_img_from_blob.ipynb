{
 "cells": [
  {
   "cell_type": "code",
   "execution_count": 1,
   "metadata": {},
   "outputs": [
    {
     "name": "stdout",
     "output_type": "stream",
     "text": [
      "\u001b[1m1/1\u001b[0m \u001b[32m━━━━━━━━━━━━━━━━━━━━\u001b[0m\u001b[37m\u001b[0m \u001b[1m0s\u001b[0m 106ms/step\n"
     ]
    },
    {
     "data": {
      "text/plain": [
       "1"
      ]
     },
     "execution_count": 1,
     "metadata": {},
     "output_type": "execute_result"
    }
   ],
   "source": [
    "import sys\n",
    "# append path here so that jupyter can find it. As alternative you can configure this in the setting of your IDE.\n",
    "sys.path.append(r\"C:\\Users\\oliver.koehn\\Documents\\gitProjects\\qualityInspection\")\n",
    "\n",
    "from lib.utils import *\n",
    "import pandas as pd\n",
    "\n",
    "# PARAM\n",
    "connection_string = os.getenv(\"CSTR__BLOB__VISINSP\")\n",
    "container_name = \"image-uploads\"\n",
    "fp__img__blob = \"2024/05/21/cast_ok_0_525.jpeg\"\n",
    "log_schema = \"VISUAL_INSPECTION\"\n",
    "log_table = \"LOG__VISUAL_INSPECTION\"\n",
    "\n",
    "# DB CONNECTION\n",
    "eng = get_engine()\n",
    "\n",
    "# BLOB CONNECTION\n",
    "blob_service_client = get_blob_service_client(connection_string)\n",
    "\n",
    "# EVAL\n",
    "loaded_model = get_keras_model(blob_service_client, \"local\", \"trained_model.keras\")\n",
    "prob__ok = eval_img_from_blob(loaded_model, blob_service_client, container_name, fp__img__blob)\n",
    "\n",
    "# LOG TO DB\n",
    "j__db = {\"FN__BLOB\" : fp__img__blob.split(\"/\")[-1], \"CONTAINER_NAME\" : container_name, \"PROBABILITY_OK\": round(prob__ok, 4), \"FP__BLOB\" : fp__img__blob}\n",
    "df = pd.DataFrame(j__db, index=[0])\n",
    "df.to_sql(log_table, eng, schema=log_schema, if_exists=\"append\", index=False)"
   ]
  },
  {
   "cell_type": "code",
   "execution_count": null,
   "metadata": {},
   "outputs": [],
   "source": [
    "sql = f\"SELECT * FROM {log_schema}.{log_table};\"\n",
    "df = pd.read_sql(sql, eng)\n",
    "\n",
    "df"
   ]
  },
  {
   "cell_type": "code",
   "execution_count": null,
   "metadata": {},
   "outputs": [],
   "source": [
    "\"\"\"\n",
    "/*\n",
    "create schema VISUAL_INSPECTION;\n",
    "DROP TABLE VISUAL_INSPECTION.LOG__VISUAL_INSPECTION;\n",
    "*/\n",
    "CREATE TABLE VISUAL_INSPECTION.LOG__VISUAL_INSPECTION\n",
    "(\n",
    "    FN__BLOB VARCHAR(200)\n",
    "    , CONTAINER_NAME VARCHAR(200)\n",
    "    , PROBABILITY_OK float\n",
    "    , FP__BLOB VARCHAR(200)\n",
    "    , PRIMARY KEY (FN__BLOB)\n",
    ")\n",
    ";\n",
    "\"\"\""
   ]
  },
  {
   "cell_type": "code",
   "execution_count": null,
   "metadata": {},
   "outputs": [],
   "source": []
  }
 ],
 "metadata": {
  "kernelspec": {
   "display_name": "venvQualInsp311",
   "language": "python",
   "name": "python3"
  },
  "language_info": {
   "codemirror_mode": {
    "name": "ipython",
    "version": 3
   },
   "file_extension": ".py",
   "mimetype": "text/x-python",
   "name": "python",
   "nbconvert_exporter": "python",
   "pygments_lexer": "ipython3",
   "version": "3.11.8"
  }
 },
 "nbformat": 4,
 "nbformat_minor": 2
}

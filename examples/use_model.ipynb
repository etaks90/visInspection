{
 "cells": [
  {
   "cell_type": "code",
   "execution_count": 1,
   "metadata": {},
   "outputs": [],
   "source": [
    "import tensorflow as tf\n",
    "from tensorflow.keras.preprocessing.image import ImageDataGenerator\n",
    "import os\n",
    "\n",
    "loaded_model = tf.keras.models.load_model('trained_model.keras')"
   ]
  },
  {
   "cell_type": "code",
   "execution_count": 2,
   "metadata": {},
   "outputs": [
    {
     "name": "stdout",
     "output_type": "stream",
     "text": [
      "Found 8 images belonging to 1 classes.\n",
      "\u001b[1m1/1\u001b[0m \u001b[32m━━━━━━━━━━━━━━━━━━━━\u001b[0m\u001b[37m\u001b[0m \u001b[1m0s\u001b[0m 230ms/step\n",
      "(array([1, 0]), 'samples\\\\cast_def_0_9966.jpeg')\n",
      "(array([1, 0]), 'samples\\\\cast_def_0_997.jpeg')\n",
      "(array([1, 0]), 'samples\\\\cast_def_0_999.jpeg')\n",
      "(array([1, 0]), 'samples\\\\cast_def_0_9992.jpeg')\n",
      "(array([0, 1]), 'samples\\\\cast_ok_0_9971.jpeg')\n",
      "(array([0, 1]), 'samples\\\\cast_ok_0_9973.jpeg')\n",
      "(array([0, 1]), 'samples\\\\cast_ok_0_9978.jpeg')\n",
      "(array([0, 1]), 'samples\\\\cast_ok_0_998.jpeg')\n"
     ]
    },
    {
     "name": "stderr",
     "output_type": "stream",
     "text": [
      "c:\\Users\\oliver.koehn\\Documents\\gitProjects\\qualityInspection\\venvQualInsp311\\Lib\\site-packages\\keras\\src\\trainers\\data_adapters\\py_dataset_adapter.py:121: UserWarning: Your `PyDataset` class should call `super().__init__(**kwargs)` in its constructor. `**kwargs` can include `workers`, `use_multiprocessing`, `max_queue_size`. Do not pass these arguments to `fit()`, as they will be ignored.\n",
      "  self._warn_if_super_not_called()\n"
     ]
    }
   ],
   "source": [
    "test_dir = rf\"C:\\Users\\{os.getlogin()}\\Documents\\gitProjects\\qualityInspection\\in\"\n",
    "test_datagen = ImageDataGenerator(rescale=1./255)\n",
    "test_data = test_datagen.flow_from_directory(test_dir,\n",
    "                                              target_size=(200, 200),\n",
    "                                              batch_size=32,\n",
    "                                              class_mode='categorical',\n",
    "                                              shuffle=False)\n",
    "image_paths = [os.path.join(test_dir, fname) for fname in test_data.filenames]\n",
    "result = loaded_model.predict(test_data)\n",
    "class_predictions = (result > 0.5).astype(\"int32\")\n",
    "for e in zip(class_predictions, test_data.filenames):\n",
    "    print(e)"
   ]
  },
  {
   "cell_type": "code",
   "execution_count": null,
   "metadata": {},
   "outputs": [],
   "source": []
  }
 ],
 "metadata": {
  "kernelspec": {
   "display_name": "venv312",
   "language": "python",
   "name": "python3"
  },
  "language_info": {
   "codemirror_mode": {
    "name": "ipython",
    "version": 3
   },
   "file_extension": ".py",
   "mimetype": "text/x-python",
   "name": "python",
   "nbconvert_exporter": "python",
   "pygments_lexer": "ipython3",
   "version": "3.11.8"
  }
 },
 "nbformat": 4,
 "nbformat_minor": 2
}
